{
 "cells": [
  {
   "cell_type": "code",
   "execution_count": null,
   "id": "a8ccf984",
   "metadata": {
    "pycharm": {
     "name": "#%%\n"
    }
   },
   "outputs": [],
   "source": [
    "import IPython.display as ipd\n",
    "import librosa.display\n",
    "import numpy as np\n",
    "import pandas as pd\n",
    "from datetime import datetime\n",
    "import tensorflow as tf\n",
    "\n",
    "# Sources:\n",
    "# https://www.youtube.com/watch?v=WJI-17MNpdE"
   ]
  },
  {
   "cell_type": "code",
   "execution_count": null,
   "id": "3720a857",
   "metadata": {
    "pycharm": {
     "name": "#%%\n"
    }
   },
   "outputs": [],
   "source": [
    "start_time = datetime.now()"
   ]
  },
  {
   "cell_type": "code",
   "execution_count": null,
   "id": "3bae3ad8",
   "metadata": {
    "pycharm": {
     "name": "#%%\n"
    }
   },
   "outputs": [],
   "source": [
    "df = pd.read_csv('Dataset/participant_urbansound8k.csv')"
   ]
  },
  {
   "cell_type": "code",
   "execution_count": null,
   "id": "e431443b",
   "metadata": {
    "pycharm": {
     "name": "#%%\n"
    }
   },
   "outputs": [],
   "source": [
    "labels = df.iloc[:7079, 3]\n",
    "files = df.iloc[:, 0]\n",
    "folder = df.iloc[:, 2]"
   ]
  },
  {
   "cell_type": "code",
   "execution_count": null,
   "metadata": {
    "collapsed": false,
    "pycharm": {
     "name": "#%%\n"
    }
   },
   "outputs": [],
   "source": [
    "tf.random.set_seed(310503)\n",
    "model = tf.keras.Sequential()\n",
    "model.add(tf.keras.layers.InputLayer(input_shape=[13, 1000]))\n",
    "model.add(tf.keras.layers.Flatten())\n",
    "model.add(tf.keras.layers.Dense(10000, activation=\"relu\"))\n",
    "model.add(tf.keras.layers.Dense(5000, activation=\"relu\"))\n",
    "model.add(tf.keras.layers.Dense(3512, activation=\"relu\"))\n",
    "model.add(tf.keras.layers.Dense(2312, activation=\"relu\"))\n",
    "model.add(tf.keras.layers.Dense(1512, activation=\"relu\"))\n",
    "model.add(tf.keras.layers.Dense(1055, activation=\"relu\"))\n",
    "model.add(tf.keras.layers.Dense(512, activation=\"relu\"))\n",
    "model.add(tf.keras.layers.Dense(256, activation=\"relu\"))\n",
    "model.add(tf.keras.layers.Dense(64, activation=\"relu\"))\n",
    "model.add(tf.keras.layers.Dense(2, activation=\"softmax\"))"
   ]
  },
  {
   "cell_type": "code",
   "execution_count": null,
   "metadata": {
    "collapsed": false,
    "pycharm": {
     "name": "#%%\n"
    }
   },
   "outputs": [],
   "source": [
    "model.summary()"
   ]
  },
  {
   "cell_type": "code",
   "execution_count": null,
   "metadata": {
    "collapsed": false,
    "pycharm": {
     "name": "#%%\n"
    }
   },
   "outputs": [],
   "source": [
    "model.compile(loss=\"sparse_categorical_crossentropy\", optimizer=\"sgd\", metrics=[\"accuracy\"])"
   ]
  },
  {
   "cell_type": "code",
   "execution_count": null,
   "metadata": {
    "collapsed": false,
    "pycharm": {
     "name": "#%%\n"
    }
   },
   "outputs": [],
   "source": [
    "def NormalizeData(data):\n",
    "    return (data - np.min(data)) / (np.max(data) - np.min(data))\n",
    "\n",
    "data = []\n",
    "\n",
    "for row in range(10000): #ICI QUON LOOP A TRAVERS LES 10 000 DONNÉES (REMPLACER 1 DANS RANGE QUAND ÇA MARCHE BIEN)\n",
    "    try:\n",
    "        audio_file = f\"Dataset/fold{folder[row]}/{files[row]}\"\n",
    "        audio = ipd.Audio(audio_file)\n",
    "        if librosa.get_duration(filename=audio_file) != 4.0:\n",
    "            labels.pop(row)\n",
    "            continue\n",
    "        signal, sr = librosa.load(audio_file)\n",
    "        mfccs = librosa.feature.mfcc(y=signal, n_mfcc=13, sr=sr)\n",
    "        deltaMfccs = librosa.feature.delta(mfccs)\n",
    "        delta2Mfccs = librosa.feature.delta(mfccs, order=2)\n",
    "        compmfccs = np.concatenate(np.asarray((abs(np.concatenate(mfccs)),abs(np.concatenate(deltaMfccs)),abs(np.concatenate(delta2Mfccs)))))\n",
    "        compmfccs = NormalizeData(compmfccs)\n",
    "        data.append(compmfccs)\n",
    "    except:\n",
    "        print(row)\n",
    "        print(f\"Dataset/fold{folder[row]}/{files[row]}\")\n",
    "\n",
    "end_time = datetime.now()\n",
    "print('Duration: {}'.format(end_time - start_time))"
   ]
  },
  {
   "cell_type": "code",
   "execution_count": null,
   "id": "ebaaa09a",
   "metadata": {
    "pycharm": {
     "name": "#%%\n"
    }
   },
   "outputs": [],
   "source": [
    "labels = labels.astype(int)\n",
    "X_train, Y_train = labels[:-2000], data[:-2000]\n",
    "X_valid, Y_valid = labels[-2000:], data[-2000:]"
   ]
  },
  {
   "cell_type": "code",
   "execution_count": null,
   "id": "fe0dc7bf",
   "metadata": {
    "pycharm": {
     "name": "#%%\n"
    }
   },
   "outputs": [],
   "source": [
    "print(Y_train)"
   ]
  },
  {
   "cell_type": "code",
   "execution_count": null,
   "id": "42b76181",
   "metadata": {
    "pycharm": {
     "name": "#%%\n"
    }
   },
   "outputs": [],
   "source": [
    "history = model.fit(X_train, Y_train, epochs=10, validation_data=(X_valid, Y_valid))"
   ]
  },
  {
   "cell_type": "code",
   "execution_count": null,
   "id": "f163ca21",
   "metadata": {
    "pycharm": {
     "name": "#%%\n"
    }
   },
   "outputs": [],
   "source": []
  }
 ],
 "metadata": {
  "kernelspec": {
   "display_name": "Python 3 (ipykernel)",
   "language": "python",
   "name": "python3"
  },
  "language_info": {
   "codemirror_mode": {
    "name": "ipython",
    "version": 3
   },
   "file_extension": ".py",
   "mimetype": "text/x-python",
   "name": "python",
   "nbconvert_exporter": "python",
   "pygments_lexer": "ipython3",
   "version": "3.9.7"
  }
 },
 "nbformat": 4,
 "nbformat_minor": 5
}
